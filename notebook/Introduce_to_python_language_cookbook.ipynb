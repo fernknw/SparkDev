{
 "cells": [
  {
   "cell_type": "markdown",
   "metadata": {
    "colab_type": "text",
    "id": "YdpfRGFm41nF"
   },
   "source": [
    "# Basic Python \n",
    "## Set up your programming Environment using Anaconda\n",
    "1. Download anaconda (python 2.x/3.x) <http://continuum.io/downloads>\n",
    "2. Install it, on Linux:\n",
    "```\n",
    "bash Anaconda3-2.4.1-Linux-x86_64.sh\n",
    "```\n",
    "3. Add anaconda path in your PATH variable in your .bashrc file:\n",
    "```\n",
    "export PATH=\"${HOME}/anaconda3/bin:$PATH\"\n",
    "```\n",
    "4. Optional: install additional package:\n",
    "Using conda:\n",
    "``` \n",
    "conda install seaborn\n",
    "```\n",
    "Using pip:\n",
    "```\n",
    "pip install -U --user seaborn\n",
    "```\n",
    "5. Python editor spyder:\n",
    "- Consoles/Open IPython console.\n",
    "- Left panel text editor\n",
    "- Right panel ipython console\n",
    "- F9 run selection or current line (in recent version of spyder)\n",
    "6. Python interpreter: one can use either python or ipython, with later being an interpretive shell within python that provides additional features: <https://docs.python.org/3/tutorial/> & <http://ipython.readthedocs.io/en/stable/interactive/tutorial.html>."
   ]
  },
  {
   "cell_type": "markdown",
   "metadata": {
    "colab_type": "text",
    "id": "lggFjAAT6kM8"
   },
   "source": [
    "## Import Libraries"
   ]
  },
  {
   "cell_type": "code",
   "execution_count": 0,
   "metadata": {
    "colab": {},
    "colab_type": "code",
    "id": "H1nilcHM4wIu"
   },
   "outputs": [],
   "source": [
    "# 'generic import' of math module\n",
    "import math\n",
    "math.sqrt(25)\n",
    "\n",
    "# import a function\n",
    "from math import sqrt\n",
    "sqrt(25) # no longer have to reference the module\n",
    "\n",
    "# import multiple functions at once\n",
    "from math import cos, floor\n",
    "\n",
    "# import all functions in a module (generally discouraged)\n",
    "# from os import *\n",
    "import numpy as np\n",
    "\n",
    "# show all functions in math module\n",
    "content = dir(math)"
   ]
  },
  {
   "cell_type": "markdown",
   "metadata": {
    "colab_type": "text",
    "id": "fpw_lVIK7OhL"
   },
   "source": [
    "## Data types"
   ]
  },
  {
   "cell_type": "code",
   "execution_count": 0,
   "metadata": {
    "colab": {},
    "colab_type": "code",
    "id": "xkpD9cG97Q6D"
   },
   "outputs": [],
   "source": [
    "# determine the type of an object\n",
    "type(2) # returns 'int'\n",
    "type(2.0) # returns 'float'\n",
    "type('two') # returns 'str'\n",
    "type(True) # returns 'bool'\n",
    "type(None) # returns 'NoneType'\n",
    "\n",
    "isinstance(2.0, int) # returns False \n",
    "isinstance(2.0, (int, float)) # returns True\n",
    "\n",
    "\n",
    "# check if an object is of a given type \n",
    "# convert an object to a given type\n",
    "float(2)\n",
    "int(2.9)\n",
    "str(2.9)\n",
    "\n",
    "# zero, None, and empty containers are converted to False\n",
    "bool(0)\n",
    "bool(None) \n",
    "bool('') # empty string\n",
    "bool([]) # empty list\n",
    "bool({}) # empty dictionary\n",
    "\n",
    "# non-empty containers and non-zeros are converted to True\n",
    "bool(2)\n",
    "bool('two')\n",
    "bool([2])"
   ]
  },
  {
   "cell_type": "markdown",
   "metadata": {
    "colab_type": "text",
    "id": "N8lnmcXo7WYv"
   },
   "source": [
    "## Math"
   ]
  },
  {
   "cell_type": "code",
   "execution_count": 0,
   "metadata": {
    "colab": {},
    "colab_type": "code",
    "id": "qig5JRSb7Gaf"
   },
   "outputs": [],
   "source": [
    "# basic operations\n",
    "10+4 # add (returns 14)\n",
    "10-4 # subtract (returns 6)\n",
    "10*4 # multiply (returns 40)\n",
    "10 ** 4 # exponent (returns 10000)\n",
    "10 / 4 # divide (returns 2 because both types are 'int')\n",
    "10 / float(4)  # divide (returns 2.5)\n",
    "5%4 # modulo (returns 1) - also known as the remainder\n",
    "\n",
    "10 / 4  # true division (returns 2.5)\n",
    "10 // 4 # floor division (returns 2)\n"
   ]
  },
  {
   "cell_type": "markdown",
   "metadata": {
    "colab_type": "text",
    "id": "8PGXbDnP8Gf-"
   },
   "source": [
    "## Comparisons and boolean operations"
   ]
  },
  {
   "cell_type": "code",
   "execution_count": 0,
   "metadata": {
    "colab": {},
    "colab_type": "code",
    "id": "zxGtXJvt8JUY"
   },
   "outputs": [],
   "source": [
    "# comparisons (these return True)\n",
    "5>3 \n",
    "5 >= 3 \n",
    "5 != 3 \n",
    "5 == 5\n",
    "\n",
    "# boolean operations (these return True)\n",
    "5 > 3 and 6 > 3\n",
    "5 > 3 or 5 < 3\n",
    "not False\n",
    "False or not False and True # evaluation order: not, and, or"
   ]
  },
  {
   "cell_type": "markdown",
   "metadata": {
    "colab_type": "text",
    "id": "f0erpGWV8Rn6"
   },
   "source": [
    "## Conditional Statements"
   ]
  },
  {
   "cell_type": "code",
   "execution_count": 0,
   "metadata": {
    "colab": {},
    "colab_type": "code",
    "id": "J_K4J-Xn8Qjs"
   },
   "outputs": [],
   "source": [
    "x=3\n",
    "# if statement \n",
    "if x > 0:\n",
    "  print('positive')\n",
    "\n",
    "# if/else statement\n",
    "if x > 0: \n",
    "  print('positive')\n",
    "else:\n",
    "  print('zero or negative')\n",
    "\n",
    "# if/elif/else statement\n",
    "if x > 0: \n",
    "  print('positive')\n",
    "elif x == 0: \n",
    "  print('zero')\n",
    "else: \n",
    "  print('negative')\n",
    "\n",
    "# single-line if statement (sometimes discouraged)\n",
    "if x > 0: print('positive')\n",
    "  \n",
    "# single-line if/else statement (sometimes discouraged) # known as a 'ternary operator'\n",
    "'positive' if x > 0 else 'zero or negative'"
   ]
  },
  {
   "cell_type": "markdown",
   "metadata": {
    "colab_type": "text",
    "id": "LsMViLPI8pPS"
   },
   "source": [
    "## Lists\n",
    "Different objects categorized along a certain ordered sequence, lists are ordered, iterable, mutable (adding or removing objects changes the list size), can contain multiple data types  "
   ]
  },
  {
   "cell_type": "code",
   "execution_count": 0,
   "metadata": {
    "colab": {},
    "colab_type": "code",
    "id": "L62VyTkb8o9i"
   },
   "outputs": [],
   "source": [
    "# create an empty list (two ways)\n",
    "empty_list = []\n",
    "empty_list = list()\n",
    "\n",
    "# create a list\n",
    "simpsons = ['homer', 'marge', 'bart']\n",
    "\n",
    "# examine a list\n",
    "simpsons[0] # print element 0 ('homer') \n",
    "len(simpsons) # returns the length (3)\n",
    "\n",
    "# modify a list (does not return the list)\n",
    "simpsons.append('lisa') # append element to end \n",
    "simpsons.extend(['itchy', 'scratchy']) # append multiple elements to end\n",
    "simpsons.insert(0, 'maggie') # insert element at index 0 (shifts everything right)\n",
    "simpsons.remove('bart')  # searches for first instance and removes it\n",
    "simpsons.pop(0) # removes element 0 and returns it\n",
    "del simpsons[0] # removes element 0 (does not return it)\n",
    "simpsons[0] = 'krusty' # replace element 0\n",
    "\n",
    "# concatenate lists (slower than 'extend' method)\n",
    "neighbors = simpsons + ['ned','rod','todd']\n",
    "\n",
    "# find elements in a list\n",
    "simpsons.count('lisa') # counts the number of instances \n",
    "simpsons.index('itchy') # returns index of first instance\n",
    "\n",
    "# list slicing [start:end:stride]\n",
    "weekdays = ['mon','tues','wed','thurs','fri']\n",
    "weekdays[0] # element 0\n",
    "weekdays[0:3] # elements 0, 1, 2\n",
    "weekdays[:3] # elements 0, 1, 2\n",
    "weekdays[3:] # elements 3, 4\n",
    "weekdays[-1] # last element (element 4)\n",
    "weekdays[::2] # every 2nd element (0, 2, 4)\n",
    "weekdays[::-1] # backwards (4, 3, 2, 1, 0)\n",
    "\n",
    "# alternative method for returning the list backwards\n",
    "list(reversed(weekdays))\n",
    "\n",
    "# sort a list in place (modifies but does not return the list)\n",
    "simpsons.sort()\n",
    "simpsons.sort(reverse=True) # sort in reverse \n",
    "simpsons.sort(key=len) # sort by a key\n",
    "\n",
    "# return a sorted list (but does not modify the original list)\n",
    "sorted(simpsons)\n",
    "sorted(simpsons, reverse=True)\n",
    "sorted(simpsons, key=len)\n",
    "\n",
    "# create a second reference to the same list\n",
    "num = [1, 2, 3]\n",
    "same_num = num\n",
    "same_num[0] = 0 # modifies both 'num' and 'same_num'\n",
    "\n",
    "# copy a list (three ways)\n",
    "new_num = num.copy() # valid for Python 3\n",
    "new_num = num[:]\n",
    "new_num = list(num)\n",
    "\n",
    "# examine objects\n",
    "id(num) == id(same_num) # returns True \n",
    "id(num) == id(new_num) # returns False\n",
    "num is same_num # returns True\n",
    "num is new_num # returns False\n",
    "num == same_num # returns True\n",
    "num == new_num # returns True (their contents are equivalent)\n",
    "\n",
    "# conatenate +, replicate *\n",
    "[1, 2, 3] + [4, 5, 6]\n",
    "[\"a\"] * 2 + [\"b\"] * 3\n",
    "\n"
   ]
  },
  {
   "cell_type": "markdown",
   "metadata": {
    "colab_type": "text",
    "id": "bzcKc1CqDfHe"
   },
   "source": [
    "## Tuples\n",
    "\n",
    "Like lists, but their size cannot change: ordered, iterable, immutable, can contain multiple data types"
   ]
  },
  {
   "cell_type": "code",
   "execution_count": 0,
   "metadata": {
    "colab": {},
    "colab_type": "code",
    "id": "gbswK-uRDjYd"
   },
   "outputs": [],
   "source": [
    "# create a tuple\n",
    "digits = (0, 1, 'two') # create a tuple directly\n",
    "digits = tuple([0, 1, 'two']) # create a tuple from a list\n",
    "zero = (0,) # trailing comma is required to indicate it's a tuple\n",
    "\n",
    "\n",
    "\n",
    "# examine a tuple\n",
    "digits[2] # returns 'two'\n",
    "len(digits) # returns 3\n",
    "digits.count(0) # counts the number of instances of that value (1)\n",
    "digits.index(1) # returns the index of the first instance of that value (1)\n",
    "\n",
    "# elements of a tuple cannot be modified\n",
    "# digits[2] = 2       # throws an error\n",
    "\n",
    "# concatenate tuples\n",
    "digits = digits + (3, 4)\n",
    "\n",
    "# create a single tuple with elements repeated (also works with lists) \n",
    "(3, 4) * 2 # returns (3, 4, 3, 4)\n",
    "\n",
    "# tuple unpacking\n",
    "bart = ('male', 10, 'simpson') # create a tuple\n"
   ]
  },
  {
   "cell_type": "markdown",
   "metadata": {
    "colab_type": "text",
    "id": "_kVaRGmdMfOh"
   },
   "source": [
    "## String\n",
    "A sequence of characters, they are iterable, immutable"
   ]
  },
  {
   "cell_type": "code",
   "execution_count": 0,
   "metadata": {
    "colab": {},
    "colab_type": "code",
    "id": "vhJORhQpMh_7"
   },
   "outputs": [],
   "source": [
    "from __future__ import print_function \n",
    "\n",
    "# create a string\n",
    "s = str(42) # convert another data type into a string\n",
    "s = 'I like you'\n",
    "\n",
    "# examine a string\n",
    "s[0] # returns 'I'\n",
    "len(s)  # returns 10\n",
    "\n",
    "# string slicing like lists\n",
    "s[:6] # returns 'I like'\n",
    "s[7:] # returns 'you'\n",
    "s[-1] # returns 'u'\n",
    "\n",
    "# basic string methods (does not modify the original string)\n",
    "s.lower() # returns 'i like you'\n",
    "s.upper() # returns 'I LIKE YOU'\n",
    "s.startswith('I') # returns True\n",
    "s.endswith('you') # returns True\n",
    "s.isdigit() # returns False (returns True if every character in the string is a digit)\n",
    "\n",
    "s.find('like') # returns index of first occurrence (2), but doesn't support regex\n",
    "s.find('hate') # returns -1 since not found\n",
    "s.replace('like','love') # replaces all instances of 'like' with 'love'\n",
    "\n",
    "# split a string into a list of substrings separated by a delimiter\n",
    "s.split(' ') # returns ['I','like','you']\n",
    "s.split() # same thing\n",
    "s2 = 'a, an, the'\n",
    "s2.split(',') # returns ['a',' an',' the']\n",
    "\n",
    "# join a list of strings into one string using a delimiter\n",
    "stooges = ['larry','curly','moe']\n",
    "' '.join(stooges) # returns 'larry curly moe'\n",
    "\n",
    "# concatenate strings\n",
    "s3 = 'The meaning of life is'\n",
    "s4 = '42'\n",
    "s3 + ' ' + s4 # returns 'The meaning of life is 42' \n",
    "s3+''+str(42) #samething\n",
    "\n",
    "# remove whitespace from start and end of a string\n",
    "s5=' ham and cheese '\n",
    "s5.strip() # returns 'ham and cheese'\n",
    "\n",
    "\n",
    "# string substitutions: all of these return 'raining cats and dogs'\n",
    "'raining %s and %s' % ('cats','dogs') # old way \n",
    "'raining {} and {}'.format('cats','dogs') # new way \n",
    "'raining {arg1} and {arg2}'.format(arg1='cats',arg2='dogs') # named arguments\n",
    "\n",
    "# string formatting\n",
    "# more examples: http://mkaz.com/2012/10/10/python-string-format/\n",
    "'pi is {:.2f}'.format(3.14159) # returns 'pi is 3.14'\n",
    "\n",
    "# normal strings versus raw strings\n",
    "print('first line\\nsecond line') # normal strings allow for escaped characters\n",
    "print(r'first line\\nfirst line') # raw strings treat backslashes as literal characters\n",
    "\n",
    " \n"
   ]
  },
  {
   "cell_type": "markdown",
   "metadata": {
    "colab_type": "text",
    "id": "z2UCCnC9N2a0"
   },
   "source": [
    "## Dictionaries\n",
    "\n",
    "Dictionaries are structures which can contain multiple data types, and is ordered with key-value pairs: for each (unique) key, the dictionary outputs one value. Keys can be strings, numbers, or tuples, while the corresponding values can be any Python object. Dictionaries are: unordered, iterable, mutable\n"
   ]
  },
  {
   "cell_type": "code",
   "execution_count": 0,
   "metadata": {
    "colab": {},
    "colab_type": "code",
    "id": "PjPEqvO1N6eG"
   },
   "outputs": [],
   "source": [
    "# create an empty dictionary (two ways)\n",
    "empty_dict = {}\n",
    "empty_dict = dict()\n",
    "\n",
    "# create a dictionary (two ways)\n",
    "family = {'dad':'homer', 'mom':'marge', 'size':6}\n",
    "family = dict(dad='homer', mom='marge', size=6)\n",
    "\n",
    "# convert a list of tuples into a dictionary\n",
    "list_of_tuples = [('dad','homer'), ('mom','marge'), ('size', 6)]\n",
    "family = dict(list_of_tuples)\n",
    "\n",
    "\n",
    "# examine a dictionary\n",
    "family['dad'] # returns 'homer'\n",
    "len(family) # returns 3\n",
    "family.keys() # returns list: ['dad', 'mom', 'size']\n",
    "family.values() # returns list: ['homer', 'marge', 6]\n",
    "                \n",
    "family.items()  # returns list of tuples:\n",
    "                #   [('dad', 'homer'), ('mom', 'marge'), ('size', 6)]\n",
    "\n",
    "  \n",
    "'mom' in family # returns True\n",
    "'marge' in family # returns False (only checks keys)\n",
    "\n",
    "\n",
    "# modify a dictionary (does not return the dictionary)\n",
    "family['cat'] = 'snowball' # add a new entry \n",
    "family['cat'] = 'snowball ii' # edit an existing entry\n",
    "del family['cat'] # delete an entry\n",
    "family['kids'] = ['bart', 'lisa'] # value can be a list\n",
    "family.pop('dad') # removes an entry and returns the value ('homer')\n",
    "\n",
    "family.update({'baby':'maggie', 'grandpa':'abe'}) # add multiple entries \n",
    "\n",
    "# accessing values more safely with 'get'\n",
    "family['mom'] # returns 'marge'\n",
    "family.get('mom') # same thing\n",
    "try:\n",
    "  family['grandma'] # throws an error\n",
    "except KeyError as e: \n",
    "  print(\"Error\", e) \n",
    "\n",
    "family.get('grandma') # returns None\n",
    "family.get('grandma', 'not found') # returns 'not found' (the default)\n",
    "\n",
    "# accessing a list element within a dictionary \n",
    "family['kids'][0] # returns 'bart' \n",
    "family['kids'].remove('lisa') # removes 'lisa'\n",
    "\n",
    "# string substitution using a dictionary\n",
    "'youngest child is %(baby)s' % family # returns 'youngest child is maggie'"
   ]
  },
  {
   "cell_type": "markdown",
   "metadata": {
    "colab_type": "text",
    "id": "LQBdjwabPxGc"
   },
   "source": [
    "## Functions\n",
    "Functions are sets of instructions launched when called upon, they can have multiple input values and a return value"
   ]
  },
  {
   "cell_type": "code",
   "execution_count": null,
   "metadata": {},
   "outputs": [],
   "source": []
  },
  {
   "cell_type": "code",
   "execution_count": 0,
   "metadata": {
    "cellView": "code",
    "colab": {},
    "colab_type": "code",
    "id": "tIAF6nIWP1h8"
   },
   "outputs": [],
   "source": [
    "#@title\n",
    "# define a function with no arguments and no return values\n",
    "def print_text(): \n",
    "  print('this is text')\n",
    "  \n",
    "# call the function\n",
    "print_text()\n",
    "\n",
    "# define a function with one argument and no return values\n",
    "def print_this(x): \n",
    "  print(x)\n",
    "  \n",
    "# call the function\n",
    "print_this(3) # prints 3\n",
    "n = print_this(3) # prints 3, but doesn't assign 3 to n\n",
    "                  #   because the function has no return statement\n",
    "\n",
    "# define a function with one argument and one return value\n",
    "def square_this(x): \n",
    "  return x ** 2\n",
    "\n",
    "# include an optional docstring to describe the effect of a function\n",
    "def square_this(x):\n",
    "  \"\"\"Return the square of a number.\"\"\" \n",
    "  return x ** 2\n",
    "\n",
    "# call the function\n",
    "square_this(3) # prints 9\n",
    "var = square_this(3) # assigns 9 to var, but does not print 9\n",
    "\n",
    "# default arguments\n",
    "def power_this(x, power=2): return x ** power\n",
    "\n",
    "power_this(2) # 4 \n",
    "power_this(2, 3) # 8\n",
    "# use 'pass' as a placeholder if you haven't written the function body\n",
    "def stub(): \n",
    "  pass\n",
    "\n",
    "# return two values from a single function\n",
    "def min_max(nums):\n",
    "  return min(nums), max(nums)\n",
    "# return values can be assigned to a single variable as a tuple\n",
    "nums = [1, 2, 3]\n",
    "min_max_num = min_max(nums) # min_max_num = (1, 3)\n",
    "\n",
    "# return values can be assigned into multiple variables using tuple unpacking \n",
    "min_num, max_num = min_max(nums) # min_num = 1, max_num = 3"
   ]
  },
  {
   "cell_type": "markdown",
   "metadata": {
    "colab_type": "text",
    "id": "owXMNbG5QxrN"
   },
   "source": [
    "## Loops\n",
    "Loops are a set of instructions which repeat until termination conditions are met. This can include iterating through all values in an object, go through a range of values, etc"
   ]
  },
  {
   "cell_type": "code",
   "execution_count": 83,
   "metadata": {},
   "outputs": [
    {
     "name": "stdout",
     "output_type": "stream",
     "text": [
      "Found the banana!\n",
      "This will print 5 times\n",
      "This will print 5 times\n",
      "This will print 5 times\n",
      "This will print 5 times\n",
      "This will print 5 times\n"
     ]
    }
   ],
   "source": [
    "fruits = ['apple', 'banana', 'cherry'] \n",
    "for fruit in fruits:\n",
    "  if fruit == 'banana':\n",
    "    print(\"Found the banana!\")\n",
    "    break # exit the loop and skip the 'else' block\n",
    "else:\n",
    "  # this block executes ONLY if the for loop completes without hitting 'break'\n",
    "  print(\"Can't find the banana\")\n",
    "    \n",
    "    \n",
    "    # while loop\n",
    "count = 0\n",
    "while count < 5:\n",
    "  print(\"This will print 5 times\")\n",
    "  count += 1 # equivalent to 'count = count + 1'"
   ]
  },
  {
   "cell_type": "code",
   "execution_count": 0,
   "metadata": {
    "colab": {},
    "colab_type": "code",
    "id": "59xZTrUMQBFm"
   },
   "outputs": [],
   "source": [
    "# range returns a list of integers\n",
    "range(0, 3) # returns [0, 1, 2]: includes first value but excludes second value \n",
    "range(3) # same thing: starting at zero is the default\n",
    "range(0, 5, 2) # returns [0, 2, 4]: third argument specifies the 'stride'\n",
    "\n",
    "# for loop (not recommended)\n",
    "fruits = ['apple', 'banana', 'cherry'] \n",
    "for i in range(len(fruits)):\n",
    "  print(fruits[i].upper())\n",
    "  \n",
    "# alternative for loop (recommended style)\n",
    "for fruit in fruits: \n",
    "  print(fruit.upper())\n",
    "  \n",
    "# use range when iterating over a large sequence to avoid actually creating the integer list in memory\n",
    "for i in range(10**6): \n",
    "  pass\n",
    "\n",
    "# iterate through two things at once (using tuple unpacking)\n",
    "family = {'dad':'homer', 'mom':'marge', 'size':6} \n",
    "for key, value in family.items():\n",
    "  print(key, value)\n",
    "  \n",
    "# use enumerate if you need to access the index value within the loop\n",
    "for index, fruit in enumerate(fruits): \n",
    "  print(index, fruit)\n",
    "\n",
    "# for/else loop\n",
    "for fruit in fruits:\n",
    "  if fruit == 'banana':\n",
    "    print(\"Found the banana!\")\n",
    "    break # exit the loop and skip the 'else' block\n",
    "else:\n",
    "  # this block executes ONLY if the for loop completes without hitting 'break'\n",
    "  print(\"Can't find the banana\")\n",
    "  \n",
    "# while loop\n",
    "count = 0\n",
    "while count < 5:\n",
    "  print(\"This will print 5 times\")\n",
    "  count += 1 # equivalent to 'count = count + 1'"
   ]
  }
 ],
 "metadata": {
  "colab": {
   "collapsed_sections": [],
   "name": "0_python_language_cookbook.ipynb",
   "provenance": [],
   "version": "0.3.2"
  },
  "kernelspec": {
   "display_name": "Python 2",
   "language": "python",
   "name": "python2"
  },
  "language_info": {
   "codemirror_mode": {
    "name": "ipython",
    "version": 2
   },
   "file_extension": ".py",
   "mimetype": "text/x-python",
   "name": "python",
   "nbconvert_exporter": "python",
   "pygments_lexer": "ipython2",
   "version": "2.7.15"
  }
 },
 "nbformat": 4,
 "nbformat_minor": 1
}
